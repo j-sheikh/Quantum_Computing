{
  "nbformat": 4,
  "nbformat_minor": 0,
  "metadata": {
    "colab": {
      "provenance": [],
      "toc_visible": true
    },
    "kernelspec": {
      "name": "python3",
      "display_name": "Python 3"
    },
    "language_info": {
      "name": "python"
    }
  },
  "cells": [
    {
      "cell_type": "markdown",
      "source": [
        "Sources:\n",
        "\n",
        "https://pennylane.ai/qml/demos/tutorial_quantum_transfer_learning.html\n",
        "\n",
        "https://pennylane.ai/qml/demos/tutorial_qgrnn.html\n",
        "\n",
        "https://www.youtube.com/watch?v=YBHzT5V1SzUlist=PL_hJxz_HrXxsQNJHWp10up8x-hwd5uwr0"
      ],
      "metadata": {
        "id": "VVAQtZBQwqdo"
      }
    },
    {
      "cell_type": "markdown",
      "source": [
        "#Quantum Computing Definitions"
      ],
      "metadata": {
        "id": "6LL0vydjyKzY"
      }
    },
    {
      "cell_type": "markdown",
      "source": [
        "Quantum systems are manipulated via a series of quantum gates in a quantum circuit\n",
        "\n",
        "Power comes from the ability to interfere amplitudes in a very high-dimensional vector space\n",
        "\n",
        "A quantum circuit consists of the following:\n",
        "\n",
        "\n",
        "1.   Prepare some inital state $|\\psi\\rangle$\n",
        "    *  usally all zero state or ground state\n",
        "    * ($|0\\rangle|0\\rangle|0\\rangle ....$)\n",
        "\n",
        "\n",
        "\n",
        "2. Execute some unitary transformation $U(θ)$ using a sequence of gates\n",
        "\n",
        "3. Measre some obervable quantity $B$ (classical information)"
      ],
      "metadata": {
        "id": "Azonbtc6xyK7"
      }
    },
    {
      "cell_type": "markdown",
      "source": [
        "## Quantum Circuits"
      ],
      "metadata": {
        "id": "pSz6xpeazFF_"
      }
    },
    {
      "cell_type": "markdown",
      "source": [
        "The average value (expectation value) of the measurement result is given by the **Born rule**:\n",
        "\n",
        "$\\langle B \\rangle = \\langle \\psi| U^T(\\theta) BU (\\theta)|\\psi\\rangle$\n",
        "\n",
        "- just linear algebra in high-dimension space\n",
        "- every step is a matrix-vector or matrix-matrix multiplication\n",
        "  - (inner product of two vectors)\n",
        "\n",
        "The final expectation value is a continuously function of $\\theta$, the gate paramters."
      ],
      "metadata": {
        "id": "Mv8rXucDzIS4"
      }
    },
    {
      "cell_type": "markdown",
      "source": [
        "## Quantum Differntiable Programming"
      ],
      "metadata": {
        "id": "sYLqfUkN0RPg"
      }
    },
    {
      "cell_type": "markdown",
      "source": [
        "Quantum circuits are differentiable, so the ideas of differntiable programming apply\n",
        "  - we can train qunatum computers like we train neural networks"
      ],
      "metadata": {
        "id": "j7g1pHus0UMx"
      }
    },
    {
      "cell_type": "markdown",
      "source": [
        "#Automatic Differentiation of Quantum Circuits"
      ],
      "metadata": {
        "id": "ElvoHypU1Q9Q"
      }
    },
    {
      "cell_type": "markdown",
      "source": [
        "**How to compute gradients of qunatum circuits using the paramter-shift rule**\n",
        "\n",
        "\n",
        "Other options (yield problems):\n",
        "1.   Approximate?\n",
        "2.   Expectation value via ML methods?\n",
        "3.   Use a different optimization method?\n",
        "\n",
        "Consider the function\n",
        "\n",
        "$f(\\theta) = sin \\theta$\n",
        "\n",
        "\n",
        "Suppose we know how to evaluate this function.\n",
        "\n",
        "\n",
        "*   we know cosine is the derivative of sin\n",
        "*   even though it's a different function, it has the property of looking like a sin function, but with the phase shift\n",
        "* the derivative of sin or cos can always be expressed as a forward shift by $\\frac{π}{2}$ subtracting a negative shift by $\\frac{π}{2}$ and then subtracting by 2\n",
        "\n",
        "\n",
        "$\\frac{d}{dθ} f(\\theta) = \\frac{f(\\theta + \\frac{π}{2}) - f(\\theta - \\frac{π}{2})}{2}$\n",
        "\n",
        "- parameter-shift strategy\n",
        "\n",
        "$\\frac{d}{dθ} f(\\theta) = c[f(\\theta + s) - f(\\theta - s]$\n",
        "\n",
        "Forunately, qunatum circuits admit a parameter-shift rule!\n",
        "\n",
        "**Different than Finite Differences!**\n",
        "  - it's a approximation and not exact\n",
        "  - only a small shift\n",
        "  - is it to large, don't get a good approximation\n",
        "  - small shift, blowing up or through noise don't see any meaningful shift\n",
        "\n"
      ],
      "metadata": {
        "id": "GkhMxosI1jq3"
      }
    },
    {
      "cell_type": "markdown",
      "source": [
        "## When can we use the paramter-shift rule?\n",
        "\n",
        "\n",
        "*   Can be used on hardware or simulators\n",
        "*   The parameter-shift property depends on individual gates, not the rest of circuit\n",
        "*   Not all gates have a paramter-shift recipe, but most important gates do (e.g. all single qubit rotations)\n",
        "*   Could use finite-difference method as a fallback\n",
        "\n",
        "\n",
        "\n"
      ],
      "metadata": {
        "id": "--Mbj_Ue5e4S"
      }
    },
    {
      "cell_type": "markdown",
      "source": [
        "## Variants of the Parameter-Shift Rule"
      ],
      "metadata": {
        "id": "xYoT_FxW6Cpw"
      }
    },
    {
      "cell_type": "markdown",
      "source": [
        "\n",
        "\n",
        "*   The Original\n",
        "  * s is fix\n",
        "\n",
        "$\\frac{d}{dθ} f(\\theta) = c[f(\\theta + s) - f(\\theta - s]$\n",
        "\n",
        "*   Continuous parameter-shift rule\n",
        "  * s is continues\n",
        "\n",
        "$\\frac{d}{dθ} f(\\theta) = \\frac{f(\\theta + s) - f(\\theta - s)}{2 sin(s)}$\n",
        "\n",
        "\n",
        "\n",
        "*   Parameter-shift & gate decompositon\n",
        "  * decompose gates in individual gates which give the same transformation but these gates don't have any parameters associated with them or they have known parameters shift rules\n",
        "*   Stochastic paramter-shift rule\n",
        "  * promise of differentiating arbitrary gates\n",
        "\n",
        "\n"
      ],
      "metadata": {
        "id": "g68Bsrrp6FnP"
      }
    },
    {
      "cell_type": "markdown",
      "source": [
        "##Higher-Order Derivatives"
      ],
      "metadata": {
        "id": "ezW6xf1069PU"
      }
    },
    {
      "cell_type": "markdown",
      "source": [
        "The parameter-shift method can be extended to:\n",
        "\n",
        "\n",
        "*   Hessians\n",
        "*   Geometric Tensor/Natural Gradient/Fisher information matrix\n",
        "*   Arbitrary higher-order derivatives\n",
        "\n",
        "Extending means you end up just adding more terms and shifting by more and more things forward and backwards with a similar structure\n",
        "  * can blow up but\n",
        "  * thorugh the symmetries of quantum gates and the symmetries of quantum circuits means a lot of these terms can be redundant \n",
        "    * reuse derivative values to get higher-order"
      ],
      "metadata": {
        "id": "MMJJPoly6_1B"
      }
    },
    {
      "cell_type": "markdown",
      "source": [
        "# Variational Quantum Algorithms"
      ],
      "metadata": {
        "id": "Xvx63r4g8aD1"
      }
    },
    {
      "cell_type": "markdown",
      "source": [
        "Variational circuits are the practical embodiment of the idea:\n",
        "\n",
        "\"Train quantum computers like we train NN\"\n",
        "\n",
        "There is some quantum circuit that forms the basic subroutine of a larger algorithm.\n",
        "\n",
        "The quantum subroutine takes in the state preparation (input data $X$ and the circuit parameters $\\theta$ and outputs some measurement statistics. Update parameters via classical optimization loop"
      ],
      "metadata": {
        "id": "s_EWqKnq8bqa"
      }
    },
    {
      "cell_type": "markdown",
      "source": [
        "A variational quantum circuit consists of the following:\n",
        "\n",
        "\n",
        "1.   Prepare some inital state $|\\psi\\rangle$\n",
        "    *  usally all zero state or ground state\n",
        "    * ($|0\\rangle|0\\rangle|0\\rangle ....$)\n",
        "\n",
        "\n",
        "\n",
        "2. Execute some parametriued unitary transformation $U(θ)$ using a sequence of gates\n",
        "\n",
        "3. Measre some obervable quantity $B$ (classical information)"
      ],
      "metadata": {
        "id": "KnbRhR-O9dUk"
      }
    },
    {
      "cell_type": "markdown",
      "source": [
        "A variational algorithm contains a few ingredients:\n",
        "\n",
        "\n",
        "\n",
        "1.   A circuit **ansatz**\n",
        "2.   A problem-specific **cost function**\n",
        "3.   A training procedure (like Gradient Descent using the parameter-shift rule)\n",
        "\n"
      ],
      "metadata": {
        "id": "FIW1XTYR9xfn"
      }
    },
    {
      "cell_type": "markdown",
      "source": [
        "#Embedding Classical Data"
      ],
      "metadata": {
        "id": "p6ehJpeJ-T65"
      }
    },
    {
      "cell_type": "markdown",
      "source": [
        "Variational circuits have free parameters, but it is often required to input or embed classical data as part of the ansatz\n",
        "\n",
        "\n",
        "Number of different strategies (open research question):\n",
        "*   AmplitudeEmbedding\n",
        "*   AngleEmbedding\n",
        "*   BasisEmbedding\n",
        "*   DisplacementEmbedding\n",
        "*   IQPEmbedding\n",
        "*   QAOAEmbedding\n",
        "*   SqueezingEmbedding\n",
        "\n"
      ],
      "metadata": {
        "id": "CxsOt0II-WyT"
      }
    },
    {
      "cell_type": "markdown",
      "source": [
        "##Effects of Embedding"
      ],
      "metadata": {
        "id": "xJWBjkKJ-21x"
      }
    },
    {
      "cell_type": "markdown",
      "source": [
        "A common simple choice is to embed data using the parameters of a single gate (through rotation of single qubit)\n",
        "\n",
        "**NOT SUFFICIENT - gives just a simple sin function**"
      ],
      "metadata": {
        "id": "4GwQSDO6-70P"
      }
    },
    {
      "cell_type": "markdown",
      "source": [
        "## Insights on Quantum Embeddings\n",
        "\n",
        "\n",
        "1.   Data \"reuploading\"\n",
        "  * repeated sequence of embeddings\n",
        "  * more complex than just a single rotation\n",
        "2.   Learned embeddings\n",
        "  * don't train the circuit, train the embeddings\n",
        "  * use standard quantum information metrics and tricks to eg. classify the data\n",
        "\n"
      ],
      "metadata": {
        "id": "0o5Y5hhe_Rev"
      }
    },
    {
      "cell_type": "markdown",
      "source": [
        "#Optimizing Variational Circuits"
      ],
      "metadata": {
        "id": "UyXVRT3p_0v2"
      }
    },
    {
      "cell_type": "markdown",
      "source": [
        "Using the paramter-shift rule, we can optimize circuits using **gradient descent**\n",
        "- many flavours: Adam, Newton, Momentum, GD\n",
        "\n",
        "There are also a number of Quantum-aware optimizers:\n",
        "\n",
        "\n",
        "\n",
        "*   Rotosolve/Rotoselect\n",
        "  * don't use gradients, solve directly for the minimum\n",
        "*   Quantum Natural Gradient\n",
        "  * accounts for the inherent geometry of quantum Hilbert space\n",
        "* iCANS/Rosalin\n",
        "  * \"Shots-frugal\" optimizers estimate many quantities using limited samples\n",
        "\n"
      ],
      "metadata": {
        "id": "h_RDKePu_5E5"
      }
    },
    {
      "cell_type": "markdown",
      "source": [
        "# Barren Plateaus"
      ],
      "metadata": {
        "id": "BlFqL9AWAstW"
      }
    },
    {
      "cell_type": "markdown",
      "source": [
        "Quantum optimization landsacaps can have vast regions where both the gradient and its variance are exponentially suppressed\n",
        "\n",
        "Can come from circuit ansatz, choice of parametrization, or cost function\n",
        "\n",
        "Still open research question, but there are some methods to account for that:\n",
        "\n",
        "\n",
        "\n",
        "*   Specialized initalization strategies\n",
        "*   Layer-wise growth & training\n",
        "*   Adiabatic approaches (slow evolution towards target)\n",
        "\n"
      ],
      "metadata": {
        "id": "ppSGsZHzAvNN"
      }
    },
    {
      "cell_type": "markdown",
      "source": [
        "#Hybrid Models"
      ],
      "metadata": {
        "id": "gEi_TO8RBkOa"
      }
    },
    {
      "cell_type": "markdown",
      "source": [
        "Variational Circuits are already hybrid models\n",
        "\n",
        "Quantum computer: efficiently samples from hard probability distributions\n",
        "\n",
        "Classical computer: data storage, data loading, measurement aggregation, parameter updating, managing the optimization algorithm, controlling the quantum device, communication, ...\n",
        "\n",
        "**Backpropagation does not work inside a quantum computer**\n",
        "  * We would have to store quantum information about the state after each gate of the circuit\n",
        "\n",
        "It's not a fundamental barrier. "
      ],
      "metadata": {
        "id": "EWAkezQXBmxE"
      }
    }
  ]
}