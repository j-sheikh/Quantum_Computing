{
  "nbformat": 4,
  "nbformat_minor": 0,
  "metadata": {
    "colab": {
      "provenance": [],
      "collapsed_sections": [
        "tTZsj0swPbom"
      ],
      "toc_visible": true
    },
    "kernelspec": {
      "name": "python3",
      "display_name": "Python 3"
    },
    "language_info": {
      "name": "python"
    }
  },
  "cells": [
    {
      "cell_type": "markdown",
      "source": [
        "# General Info about Qubits and quantum computers"
      ],
      "metadata": {
        "id": "rRF54eaEPWjD"
      }
    },
    {
      "cell_type": "markdown",
      "source": [
        "Source: https://www.youtube.com/watch?v=g_IaVepNDT4, ChatGPT"
      ],
      "metadata": {
        "id": "GSDsXcrRXxN5"
      }
    },
    {
      "cell_type": "markdown",
      "source": [
        "Normal computers perform operations using classical bits which can be either 0 or 1.\n",
        "\n",
        "Quantum Computers use Qubits, which can be both 0 and 1 in the same time. That's the reason for the superior computing power. \n",
        "\n",
        "There are different physical objects that can be used as a QBIT:\n",
        "- a single photon\n",
        "- a electron\n",
        "- a nucleus\n",
        "\n",
        "HOW:\n",
        "Electons have magnitic fields. This property is called Spin. \n",
        "The electron lines up with the magnitic field of the earth. That's the lowest energy state (zero state or spin down). You can take it to a higher energy state (state one or spin up) but this requires energy (force). This is like the classical bit, either it is spin up (1) or spin down (0). So we have two states. Now, quantum objects can be in both states at once. When you messaure the spin it is either up or down, but before you really messaure it, the electon can exist in a quantom superposition. You than have probabilits of finding the electron in either the up or down (quantum) position.\n",
        "\n",
        "Quantum computers:\n",
        "\n",
        "How interact Qubits?\n",
        "\n",
        "Consider two Qubits: There are now four possible states. Just like with classical bits. In classical bits you have the satates\n",
        "- 0 and 0\n",
        "- 0 and 1\n",
        "- 1 and 0\n",
        "- 1 and 1\n",
        "\n",
        "But these are still just two bits of information (and four numbers). To determine which of the numbers we have, we just need to get the value of the first bit and the value of the second bit.\n",
        "\n",
        "Through qunatum mechanics allows to make/have superpostions for each of the four states.\n",
        "\n",
        "- Both Qubits are in state 1 (spin up)\n",
        "- Both Qubits are in superpositons. The first can be in state 0 and state 1, the second Qbit can be in state 1 and state 0. Addition\n",
        "- Both Qubits are in superpositons. The first can be in state 0 and state 1, the second Qbit can be in state 1 and state 0. Subtraction\n",
        "- Both Qubits are in state 0 (spin down)\n",
        "\n",
        "Now we can write a quantum mechanical state that is a coefficant ($\\alpha$) times the first possible state, plus a coefficent ($\\beta$) plus the second possible state, plus a coefficent ($\\gamma$) the third possible state and plus a coefficent ($\\delta$) times the last possible state:\n",
        "\n",
        "- ($\\delta$) | Both Qubits are in state 1 (spin up)\n",
        "- ($\\gamma$) | Both Qubits are in superpositons. The first can be in state 0 and state 1, the second Qbit can be in state 1 and state 0. Addition\n",
        "- ($\\beta$)  | Both Qubits are in superpositons. The first can be in state 0 and state 1, the second Qbit can be in state 1 and state 0. Subtraction\n",
        "- ($\\alpha$) | Both Qubits are in state 0 (spin down)\n",
        "\n",
        "To determine now the state of these two spin system i need four coefficents/numbers (($\\alpha$), ($\\beta$), ($\\gamma$) and ($\\delta$)). In classical bits, i only need two!\n",
        " - Two Qubits contain four bits of information\n",
        "\n",
        "If we have three spins, we would have eight different states and we would need eight different coefficents/numbers to define the state of these three spins. Keep scaling up, the amount of equivalent classical information contained by N Qubits will be $2^N$ classical bits.\n",
        "\n",
        "There is a catch: Even though Qubits can exist in any combination of states, when they are measured, they need to fall in one of the bases states and all the other information of states before the measurement will be lost. \n",
        "\n",
        "As a final result, you don't want to have these superposition states (you can't measure them). You need to design the logical operations you need to get to the final computational result so that the final result is something you can measure (a unique state).\n",
        "\n",
        "Quantum computers are not a replacement for classical computers. They are only faster for special kinds of computations where you can have all these superpositions at the same time to achieve computational parallelism.\n",
        "Improvement is not in the speed of the individual operations, it is in the total number of operations you need to arrive at the result. \n",
        "\n"
      ],
      "metadata": {
        "id": "v1GX2klUBES_"
      }
    },
    {
      "cell_type": "markdown",
      "source": [
        "# Gates"
      ],
      "metadata": {
        "id": "MmlnHKdkQ4vU"
      }
    },
    {
      "cell_type": "markdown",
      "source": [
        "In quantum computing, quantum gates are the basic building blocks of quantum circuits, which are analogous to classical logic gates in classical computing. Quantum gates operate on quantum bits or qubits, which are the quantum analogue of classical bits.\n",
        "\n",
        "The general idea of a quantum gate is to perform a specific transformation on the qubits that make up the quantum circuit. The transformation can be described mathematically using a unitary matrix, which represents the gate operation. The unitary matrix is applied to the state of the qubits, resulting in a new state that represents the output of the gate.\n",
        "\n",
        "There are many different types of quantum gates, each of which performs a specific operation on the qubits. Some common examples include:\n",
        "\n",
        "Hadamard gate: The Hadamard gate is a one-qubit gate that puts the qubit into a superposition of states. This is often the first gate applied in a quantum circuit.\n",
        "\n",
        "Pauli gates: The Pauli gates are a set of three one-qubit gates that rotate the qubit's state around the X, Y, or Z axis. The X, Y, and Z gates correspond to rotations of 180 degrees around the X, Y, and Z axis respectively.\n",
        "\n",
        "CNOT gate: The CNOT gate is a two-qubit gate that performs a controlled NOT operation. It flips the second qubit if the first qubit is in the state |1⟩.\n",
        "\n",
        "SWAP gate: The SWAP gate is a two-qubit gate that swaps the state of two qubits.\n",
        "\n",
        "Toffoli gate: The Toffoli gate is a three-qubit gate that acts as a controlled-controlled-NOT gate. It flips the third qubit if both the first and second qubits are in the state |1⟩.\n",
        "\n",
        "Phase gate: The phase gate is a one-qubit quantum gate that adds a phase shift to the qubit state. The phase gate is also sometimes called the \"Z\" gate because it performs a 180 degree rotation around the Z-axis of the Bloch sphere,  which corresponds to flipping the sign of the state. It allows for the manipulation of the relative phase between different states. The ability to manipulate the phase of a quantum state is a crucial aspect of quantum computing, because it allows for interference effects that are not possible in classical computing."
      ],
      "metadata": {
        "id": "RVv5p2UFRPoZ"
      }
    },
    {
      "cell_type": "markdown",
      "source": [
        "# Quantum ciruits"
      ],
      "metadata": {
        "id": "LDwc3jAHS8uS"
      }
    },
    {
      "cell_type": "markdown",
      "source": [
        "to build quantum alogirthms, we need to describe the effect of a small operation on a large system and operations which take the output of other operations as input\n",
        "\n",
        "A quantum circuit is a sequence of quantum gates that are applied to a set of qubits. Quantum circuits are the basic building blocks of quantum algorithms, and are analogous to classical circuits in classical computing.\n",
        "\n",
        "In a quantum circuit, each qubit can be in a superposition of states, which allows for the qubits to be in many different states simultaneously. The quantum gates operate on the qubits in the circuit, performing transformations on the superposition of states.\n",
        "\n",
        "The output of the quantum circuit is determined by measuring the qubits after the gate operations have been applied. The measurement collapses the superposition of states into a single classical state, which yields a classical result.\n",
        "\n",
        "Quantum circuits are used in quantum computing to perform calculations that are difficult or impossible to perform with classical computers. The ability to perform computations using superpositions of states and quantum entanglement allows for exponential speedup in certain problems, such as factoring large numbers and searching unsorted databases.\n"
      ],
      "metadata": {
        "id": "o7aXDiR-S_pp"
      }
    },
    {
      "cell_type": "markdown",
      "source": [
        "#Quantum entanglement"
      ],
      "metadata": {
        "id": "6sjtARVAUAOe"
      }
    },
    {
      "cell_type": "markdown",
      "source": [
        "Quantum entanglement is a property of quantum mechanics in which two or more quantum systems become correlated in a way that their properties are dependent on each other, even when they are separated by large distances.\n",
        "\n",
        "When two quantum systems become entangled, their properties are no longer described by independent states, but instead by a joint state that describes the whole system. This joint state cannot be decomposed into separate states for each individual system.\n",
        "\n",
        "For example, consider two entangled qubits. When the first qubit is measured, the state of the second qubit is immediately determined, regardless of the distance between the two qubits. This is because the two qubits are correlated in a way that is not possible in classical physics.\n",
        "\n",
        "Entanglement is a fundamental aspect of quantum mechanics, and plays an important role in quantum computing and quantum communication. In quantum computing, entanglement can be used to perform certain calculations much faster than classical computers. In quantum communication, entanglement can be used to transmit information in a way that is secure from eavesdropping."
      ],
      "metadata": {
        "id": "wqVI01kzUwzT"
      }
    },
    {
      "cell_type": "markdown",
      "source": [
        "#Quantum circuits and QML"
      ],
      "metadata": {
        "id": "rVpR33HnUL9V"
      }
    },
    {
      "cell_type": "markdown",
      "source": [
        "Quantum circuits are a fundamental tool in quantum machine learning (QML). \n",
        "\n",
        "In QML, quantum circuits are used to implement quantum algorithms that can perform machine learning tasks, such as classification, clustering, and regression. The quantum algorithms used in QML are often variations of classical machine learning algorithms, adapted to the quantum computing paradigm.\n",
        "\n",
        "For example, quantum circuits can be used to implement quantum neural networks (QNNs), which are quantum analogues of classical neural networks. QNNs can be used for tasks such as image recognition and classification, and have been shown to have potential for speedup over classical neural networks for certain problems.\n",
        "\n",
        "Another example is quantum support vector machines (QSVMs), which are a quantum analogue of classical support vector machines. QSVMs can be used for binary classification, and have been shown to provide a quantum speedup over classical support vector machines for some problem instances.\n",
        "\n",
        "To implement these quantum algorithms, quantum circuits are used to prepare input states, perform quantum computations, and measure the output states. The input to the quantum circuit can be encoded using qubits, and the output can be decoded by performing measurements on the final state of the qubits.\n",
        "\n",
        "One of the key challenges in QML is designing and optimizing quantum circuits that can perform machine learning tasks with a high level of accuracy and efficiency."
      ],
      "metadata": {
        "id": "DxodU4jgUOPJ"
      }
    },
    {
      "cell_type": "markdown",
      "source": [
        "Quantum circuits are used to prepare input states, perform quantum computations, and measure the output states in a few basic steps. Here's a brief overview:\n",
        "\n",
        "Input state preparation: The quantum circuit is initialized in a known state, typically the ground state or an equally weighted superposition of all basis states. The input state can then be prepared by applying quantum gates to specific qubits in the circuit. For example, to encode a classical bit 0 or 1 into a qubit, you can use the X gate, which flips the state of the qubit.\n",
        "\n",
        "Quantum computation: Once the input state is prepared, the quantum circuit performs a series of quantum gate operations on the qubits. These operations are designed to transform the input state into the desired output state that represents the solution to a particular problem. The specific quantum gates used in the computation depend on the problem being solved.\n",
        "\n",
        "Output state measurement: After the quantum gates have been applied, the final state of the qubits in the circuit represents the solution to the problem. The output state is typically measured by performing a projective measurement on the qubits. This measurement collapses the superposition of states into a single classical state, which can be read out as a binary string or other output.\n",
        "\n",
        "The precise details of these steps depend on the specific quantum circuit and problem being solved. The input state, quantum gates, and measurement operators are all chosen to optimize the performance of the circuit for the given problem. Quantum circuits can be designed to solve a wide range of problems, from simulating quantum systems to factoring large numbers and optimizing financial portfolios."
      ],
      "metadata": {
        "id": "EZW4N9yHVBby"
      }
    },
    {
      "cell_type": "markdown",
      "source": [
        "## Example Idea"
      ],
      "metadata": {
        "id": "0zz0aicQV-oF"
      }
    },
    {
      "cell_type": "markdown",
      "source": [
        "When applying QML techniques to image classification, the first step is to represent the image in a way that can be processed by a quantum circuit. One common approach is to use a quantum feature map, which transforms the image into a quantum state represented by a set of qubits.\n",
        "\n",
        "Once the image is represented as a quantum state, the quantum circuit performs a series of quantum gate operations on the qubits to compute a result. These gates simulate the operations of a quantum neural network, which is similar to a classical neural network but uses quantum gates instead of classical gates to process data.\n",
        "\n",
        "After the quantum gates have been applied, the final state of the qubits represents the solution to the image classification problem. The output is typically measured by performing a projective measurement on the qubits and mapping the results to a classical output, such as a label that identifies the object in the image.\n",
        "\n",
        "The precise details of the quantum circuit, quantum gates, and measurement operators used in image classification depend on the specific algorithm and problem being solved. However, the basic idea is that the image is transformed into a quantum state, which is then processed by a quantum circuit to obtain a result that can be interpreted in a classical way."
      ],
      "metadata": {
        "id": "19CBXxCGV9qL"
      }
    },
    {
      "cell_type": "markdown",
      "source": [
        "# Install pennylane"
      ],
      "metadata": {
        "id": "tTZsj0swPbom"
      }
    },
    {
      "cell_type": "code",
      "source": [
        "pip install pennylane"
      ],
      "metadata": {
        "colab": {
          "base_uri": "https://localhost:8080/"
        },
        "id": "SGgCKQY321PL",
        "outputId": "bc16a10f-6b91-467d-8c8a-900e75eaa403"
      },
      "execution_count": 1,
      "outputs": [
        {
          "output_type": "stream",
          "name": "stdout",
          "text": [
            "Looking in indexes: https://pypi.org/simple, https://us-python.pkg.dev/colab-wheels/public/simple/\n",
            "Collecting pennylane\n",
            "  Downloading PennyLane-0.28.0-py3-none-any.whl (1.3 MB)\n",
            "\u001b[2K     \u001b[90m━━━━━━━━━━━━━━━━━━━━━━━━━━━━━━━━━━━━━━━━\u001b[0m \u001b[32m1.3/1.3 MB\u001b[0m \u001b[31m19.2 MB/s\u001b[0m eta \u001b[36m0:00:00\u001b[0m\n",
            "\u001b[?25hCollecting pennylane-lightning>=0.28\n",
            "  Downloading PennyLane_Lightning-0.28.2-cp38-cp38-manylinux_2_17_x86_64.manylinux2014_x86_64.whl (15.3 MB)\n",
            "\u001b[2K     \u001b[90m━━━━━━━━━━━━━━━━━━━━━━━━━━━━━━━━━━━━━━━\u001b[0m \u001b[32m15.3/15.3 MB\u001b[0m \u001b[31m103.8 MB/s\u001b[0m eta \u001b[36m0:00:00\u001b[0m\n",
            "\u001b[?25hCollecting semantic-version>=2.7\n",
            "  Downloading semantic_version-2.10.0-py2.py3-none-any.whl (15 kB)\n",
            "Requirement already satisfied: cachetools in /usr/local/lib/python3.8/dist-packages (from pennylane) (5.3.0)\n",
            "Requirement already satisfied: networkx in /usr/local/lib/python3.8/dist-packages (from pennylane) (3.0)\n",
            "Requirement already satisfied: appdirs in /usr/local/lib/python3.8/dist-packages (from pennylane) (1.4.4)\n",
            "Requirement already satisfied: requests in /usr/local/lib/python3.8/dist-packages (from pennylane) (2.25.1)\n",
            "Requirement already satisfied: numpy<1.24 in /usr/local/lib/python3.8/dist-packages (from pennylane) (1.21.6)\n",
            "Requirement already satisfied: autograd in /usr/local/lib/python3.8/dist-packages (from pennylane) (1.5)\n",
            "Collecting retworkx\n",
            "  Downloading retworkx-0.12.1-py3-none-any.whl (10 kB)\n",
            "Requirement already satisfied: toml in /usr/local/lib/python3.8/dist-packages (from pennylane) (0.10.2)\n",
            "Collecting autoray>=0.3.1\n",
            "  Downloading autoray-0.6.0-py3-none-any.whl (46 kB)\n",
            "\u001b[2K     \u001b[90m━━━━━━━━━━━━━━━━━━━━━━━━━━━━━━━━━━━━━━━━\u001b[0m \u001b[32m46.4/46.4 KB\u001b[0m \u001b[31m6.8 MB/s\u001b[0m eta \u001b[36m0:00:00\u001b[0m\n",
            "\u001b[?25hRequirement already satisfied: scipy in /usr/local/lib/python3.8/dist-packages (from pennylane) (1.7.3)\n",
            "Collecting ninja\n",
            "  Downloading ninja-1.11.1-py2.py3-none-manylinux_2_12_x86_64.manylinux2010_x86_64.whl (145 kB)\n",
            "\u001b[2K     \u001b[90m━━━━━━━━━━━━━━━━━━━━━━━━━━━━━━━━━━━━━━\u001b[0m \u001b[32m146.0/146.0 KB\u001b[0m \u001b[31m21.0 MB/s\u001b[0m eta \u001b[36m0:00:00\u001b[0m\n",
            "\u001b[?25hRequirement already satisfied: future>=0.15.2 in /usr/local/lib/python3.8/dist-packages (from autograd->pennylane) (0.16.0)\n",
            "Requirement already satisfied: certifi>=2017.4.17 in /usr/local/lib/python3.8/dist-packages (from requests->pennylane) (2022.12.7)\n",
            "Requirement already satisfied: urllib3<1.27,>=1.21.1 in /usr/local/lib/python3.8/dist-packages (from requests->pennylane) (1.24.3)\n",
            "Requirement already satisfied: idna<3,>=2.5 in /usr/local/lib/python3.8/dist-packages (from requests->pennylane) (2.10)\n",
            "Requirement already satisfied: chardet<5,>=3.0.2 in /usr/local/lib/python3.8/dist-packages (from requests->pennylane) (4.0.0)\n",
            "Collecting rustworkx==0.12.1\n",
            "  Downloading rustworkx-0.12.1-cp38-cp38-manylinux_2_17_x86_64.manylinux2014_x86_64.whl (1.9 MB)\n",
            "\u001b[2K     \u001b[90m━━━━━━━━━━━━━━━━━━━━━━━━━━━━━━━━━━━━━━━━\u001b[0m \u001b[32m1.9/1.9 MB\u001b[0m \u001b[31m70.9 MB/s\u001b[0m eta \u001b[36m0:00:00\u001b[0m\n",
            "\u001b[?25hInstalling collected packages: ninja, semantic-version, rustworkx, autoray, retworkx, pennylane-lightning, pennylane\n",
            "Successfully installed autoray-0.6.0 ninja-1.11.1 pennylane-0.28.0 pennylane-lightning-0.28.2 retworkx-0.12.1 rustworkx-0.12.1 semantic-version-2.10.0\n"
          ]
        }
      ]
    },
    {
      "cell_type": "code",
      "source": [
        "import pennylane as qml\n",
        "from pennylane import numpy as np\n",
        "import matplotlib.pyplot as plt"
      ],
      "metadata": {
        "id": "_A8mbB9B4ipW"
      },
      "execution_count": 2,
      "outputs": []
    },
    {
      "cell_type": "markdown",
      "source": [
        "#basic intro"
      ],
      "metadata": {
        "id": "WQt0WR8XgEmp"
      }
    },
    {
      "cell_type": "markdown",
      "source": [
        "Sources: \n",
        "https://www.youtube.com/watch?v=eiah6I3SnFk&list=PL_hJxz_HrXxsY23iiLZTxiPctXKYI6tNV\n",
        "\n",
        "https://www.youtube.com/watch?v=YBHzT5V1SzU&list=PL_hJxz_HrXxsQNJHWp10up8x-hwd5uwr0\n",
        "\n",
        "https://pennylane.ai/qml/demos/learning2learn.html"
      ],
      "metadata": {
        "id": "BNxKLDag2uk2"
      }
    },
    {
      "cell_type": "code",
      "source": [
        "dev = qml.device('default.qubit', wires = 2) #wires = number of qubits"
      ],
      "metadata": {
        "id": "fy0-xE0T4mSF"
      },
      "execution_count": 8,
      "outputs": []
    },
    {
      "cell_type": "code",
      "source": [
        "@qml.qnode(dev)\n",
        "def circuit(theta):\n",
        "  qml.PauliX(wires=1)\n",
        "  qml.CNOT(wires= [1, 0])\n",
        "  qml.RY(theta, wires = 0)\n",
        "\n",
        "  return qml.expval(qml.PauliZ(wires = 0))"
      ],
      "metadata": {
        "id": "dbvRfyPv4upG"
      },
      "execution_count": 10,
      "outputs": []
    },
    {
      "cell_type": "code",
      "source": [
        "thetas = np.arange(-np.pi, np.pi, 0.01)"
      ],
      "metadata": {
        "id": "XZ3Vf42-4W9D"
      },
      "execution_count": 13,
      "outputs": []
    },
    {
      "cell_type": "code",
      "source": [
        "measurements = np.zeros(len(thetas))"
      ],
      "metadata": {
        "id": "6aTkPl2z4W6U"
      },
      "execution_count": 14,
      "outputs": []
    },
    {
      "cell_type": "code",
      "source": [
        "for i, theta in enumerate(thetas):\n",
        "  measurements[i] = circuit(theta)"
      ],
      "metadata": {
        "id": "xKBy0VQ34W3t"
      },
      "execution_count": 15,
      "outputs": []
    },
    {
      "cell_type": "code",
      "source": [
        "plt.plot(thetas, measurements)\n",
        "plt.show()"
      ],
      "metadata": {
        "colab": {
          "base_uri": "https://localhost:8080/",
          "height": 265
        },
        "id": "n4jh45uj4W03",
        "outputId": "4fe51bed-de8c-4add-b8d3-fc53f89f1e4e"
      },
      "execution_count": 17,
      "outputs": [
        {
          "output_type": "display_data",
          "data": {
            "text/plain": [
              "<Figure size 432x288 with 1 Axes>"
            ],
            "image/png": "[encoded data removed]"
          },
          "metadata": {
            "needs_background": "light"
          }
        }
      ]
    },
    {
      "cell_type": "code",
      "source": [
        "dev = qml.device('lightning.qubit', wires = 2) #lightning uses c++ in the backend, since its faster than python\n",
        "\"\"\"\n",
        "Lightning.qubit uses C++ in the backend, since its faster than python.\n",
        " Both the default and the lighning qubit assume that we know with certainty what is the quantum state we work with. \n",
        " When you have noise (not in simulation) you can't guarantee for this and therefore need to work with mixed states. \n",
        " Mixed states: different quantum states with different probability.\n",
        "\"\"\"\n",
        "\n",
        "dev = qml.device('default.mixed', wires = 1) \n",
        "@qml.qnode(dev)\n",
        "def circuit():\n",
        "  qml.BitFlip(0.5, wires = 0)\n",
        "  return qml.probs(wires = 0)\n",
        "circuit()"
      ],
      "metadata": {
        "colab": {
          "base_uri": "https://localhost:8080/"
        },
        "id": "RWSI6A6u4WyM",
        "outputId": "7d60da3e-4b87-4cd7-9836-ad34e3f23335"
      },
      "execution_count": 18,
      "outputs": [
        {
          "output_type": "execute_result",
          "data": {
            "text/plain": [
              "array([0.5, 0.5])"
            ]
          },
          "metadata": {},
          "execution_count": 18
        }
      ]
    },
    {
      "cell_type": "markdown",
      "source": [
        "We have to define wires in pennylane, because pennylane also works with another kind of quantum computer with a different unit of information: **quantum photonic computer**. Here the basic unit information is the q mode and work in a very different way, different gates and different space. \n"
      ],
      "metadata": {
        "id": "qKgqu41YOGVE"
      }
    },
    {
      "cell_type": "code",
      "source": [
        "dev = qml.device(\"default.gaussian\", wires = 1)"
      ],
      "metadata": {
        "id": "wn3NxCqJ4WvB"
      },
      "execution_count": 19,
      "outputs": []
    },
    {
      "cell_type": "markdown",
      "source": [
        "#Optimizing"
      ],
      "metadata": {
        "id": "iqSppujOPQ5W"
      }
    },
    {
      "cell_type": "markdown",
      "source": [
        "https://docs.pennylane.ai/en/stable/introduction/interfaces.html"
      ],
      "metadata": {
        "id": "df5dNeHfXbOJ"
      }
    },
    {
      "cell_type": "code",
      "source": [
        "import pennylane as qml\n",
        "from pennylane import numpy as np\n",
        "import matplotlib.pyplot as plt"
      ],
      "metadata": {
        "id": "Ymj7frf_Pf_t"
      },
      "execution_count": 20,
      "outputs": []
    },
    {
      "cell_type": "code",
      "source": [
        "dev = qml.device('lightning.qubit', wires = 1)\n",
        "\n",
        "@qml.qnode(dev)\n",
        "def circuit(theta):\n",
        "  qml.PauliX(wires = 0)\n",
        "  qml.RY(theta, wires = 0)\n",
        "  return qml.expval(qml.PauliZ(0)) \n",
        "circuit(0.1)"
      ],
      "metadata": {
        "colab": {
          "base_uri": "https://localhost:8080/"
        },
        "id": "ATWbNVltPf8-",
        "outputId": "7ff3a0ad-e573-4ba6-9597-17dab167f89a"
      },
      "execution_count": 23,
      "outputs": [
        {
          "output_type": "execute_result",
          "data": {
            "text/plain": [
              "tensor(-0.99500417, requires_grad=True)"
            ]
          },
          "metadata": {},
          "execution_count": 23
        }
      ]
    },
    {
      "cell_type": "code",
      "source": [
        "thetas = np.linspace(-np.pi, np.pi, 50)\n",
        "measurements = []\n",
        "for theta in thetas:\n",
        "  measurements.append(circuit(theta))"
      ],
      "metadata": {
        "id": "7VF81My8Pf6Z"
      },
      "execution_count": 25,
      "outputs": []
    },
    {
      "cell_type": "code",
      "source": [
        "fig, ax = plt.subplots()\n",
        "ax.plot(thetas, measurements)"
      ],
      "metadata": {
        "colab": {
          "base_uri": "https://localhost:8080/",
          "height": 283
        },
        "id": "kreEkjxzPf3w",
        "outputId": "22073278-811a-4807-9a52-958e599d3297"
      },
      "execution_count": 28,
      "outputs": [
        {
          "output_type": "execute_result",
          "data": {
            "text/plain": [
              "[<matplotlib.lines.Line2D at 0x7f03332099d0>]"
            ]
          },
          "metadata": {},
          "execution_count": 28
        },
        {
          "output_type": "display_data",
          "data": {
            "text/plain": [
              "<Figure size 432x288 with 1 Axes>"
            ],
            "image/png": "[encoded data removed]"
          },
          "metadata": {
            "needs_background": "light"
          }
        }
      ]
    },
    {
      "cell_type": "code",
      "source": [
        "#optimizing via gradient descent\n",
        "theta = np.array([-2], requires_grad = True)\n",
        "opt = qml.GradientDescentOptimizer(stepsize = 0.1)"
      ],
      "metadata": {
        "id": "rzECYekEPf1F"
      },
      "execution_count": 31,
      "outputs": []
    },
    {
      "cell_type": "code",
      "source": [
        "n_it = 100\n",
        "for it in range(n_it):\n",
        "  theta, prev_cost = opt.step_and_cost(circuit, theta) #circuit is cost function\n",
        "  if it % 10 == 0: \n",
        "    print(f\"Theta: {theta}, Cost:{circuit(theta)}\")"
      ],
      "metadata": {
        "colab": {
          "base_uri": "https://localhost:8080/"
        },
        "id": "Jjdz54rMPfyh",
        "outputId": "8576d924-77cb-4f8f-c259-ba1175642086"
      },
      "execution_count": 32,
      "outputs": [
        {
          "output_type": "stream",
          "name": "stdout",
          "text": [
            "Theta: [-2.], Cost:0.4161468365471423\n",
            "Theta: [-1.03886544], Cost:-0.5071983771341052\n",
            "Theta: [-0.39883261], Cost:-0.9215149712781964\n",
            "Theta: [-0.14098266], Cost:-0.9900783947884957\n",
            "Theta: [-0.0492414], Cost:-0.9987878872207129\n",
            "Theta: [-0.01717298], Cost:-0.9998525480120855\n",
            "Theta: [-0.005988], Cost:-0.9999820719882673\n",
            "Theta: [-0.00208789], Cost:-0.9999978203532067\n",
            "Theta: [-0.000728], Cost:-0.9999997350055523\n",
            "Theta: [-0.00025384], Cost:-0.9999999677828575\n"
          ]
        }
      ]
    },
    {
      "cell_type": "markdown",
      "source": [
        "#QNode in pennylane"
      ],
      "metadata": {
        "id": "Xubbe3FMac-t"
      }
    },
    {
      "cell_type": "markdown",
      "source": [
        "takes in a quantum function which has gates and a measurement and a device, either a simulator or real hardware. \n",
        "\n",
        "Can specify diff_method in qnode. Specifies the differentiation method you want to use whenever you ask pennylane to take a gradient of your quantum function.\n",
        "If not specified, it chooses the best performance one for the device. "
      ],
      "metadata": {
        "id": "-gl-JidMafGe"
      }
    },
    {
      "cell_type": "markdown",
      "source": [
        "## Differentiation"
      ],
      "metadata": {
        "id": "m0V47eY2bJ9V"
      }
    },
    {
      "cell_type": "markdown",
      "source": [
        "Finite difference and paramter shift differentiation method are hardware compatible"
      ],
      "metadata": {
        "id": "ho0-GVytbQP4"
      }
    },
    {
      "cell_type": "markdown",
      "source": [
        "### Finite difference differentiation method"
      ],
      "metadata": {
        "id": "KIK1Ip_ebYbl"
      }
    },
    {
      "cell_type": "markdown",
      "source": [
        "The basic idea of the finite difference method is to approximate the derivative of a function f(x) at a point x0 by computing a finite difference quotient using function evaluations at nearby points. The simplest version of the method is the forward difference method, which is based on the formula:\n",
        "\n",
        "f'(x0) ≈ (f(x0+h) - f(x0))/h\n",
        "\n",
        "Here, h is a small positive number (often called the step size) that determines the distance between the points x0 and x0+h. By taking a small enough value of h, this formula provides a good approximation to the derivative of the function at the point x0.\n",
        "\n",
        "The finite difference method can also be used to approximate higher-order derivatives of a function, such as the second derivative. For example, the centered difference method can be used to approximate the second derivative of a function f(x) at a point x0:\n",
        "\n",
        "f''(x0) ≈ (f(x0+h) - 2f(x0) + f(x0-h))/h^2\n",
        "\n",
        "Here, h is again the step size, but in this case, we evaluate the function at points x0+h and x0-h, rather than just x0+h."
      ],
      "metadata": {
        "id": "79d088UecBPJ"
      }
    },
    {
      "cell_type": "markdown",
      "source": [
        "The basic idea of the finite difference method is to approximate the derivative of a function at a point by computing the difference in function values at nearby points."
      ],
      "metadata": {
        "id": "smBO50Npd6uE"
      }
    },
    {
      "cell_type": "code",
      "source": [
        "def finite_diff_grad(function, params, h  = 1.0e-7):\n",
        "\n",
        "  # Initialize an array to store the computed gradients for each parameter\n",
        "  gradient = np.zeros_like(params)\n",
        "\n",
        "  # Loop\n",
        "  for i in range(len(params)):\n",
        "\n",
        "    # Increment the current parameter by the step size h\n",
        "    params[i] += h\n",
        "\n",
        "    # Evaluate the function circuit with the modified params array and add the result to the corresponding entry in the gradient array\n",
        "    gradient[i] += function(params)\n",
        "\n",
        "    # Decrement the current parameter by twice the step size h, it's done to evaluate the function at a point on the other side of the current parameter value.\n",
        "    params[i] -= 2*h\n",
        "  \n",
        "    # Evaluate the function circuit with the modified params array and subtract the result from the corresponding entry in the gradient array\n",
        "    gradient[i] -= function(params)\n",
        "\n",
        "    # Divide the resulting difference in function values by twice the step size h to obtain an approximation of the derivative\n",
        "    gradient[i] /= 2*h\n",
        "\n",
        "    # Restore the current parameter to its original value by incrementing it by the step size h\n",
        "    params[i] += h\n",
        "\n",
        "  # Return the resulting gradient array, which contains the computed gradients\n",
        "  return gradient"
      ],
      "metadata": {
        "id": "IAp-QjKzcahe"
      },
      "execution_count": 18,
      "outputs": []
    },
    {
      "cell_type": "code",
      "source": [
        "dev = qml.device(\"default.qubit\", wires = 2)\n",
        "@qml.qnode(dev)\n",
        "def circuit(params):\n",
        "  qml.RY(params[0], wires = 0)\n",
        "  qml.RY(params[1], wires = 1)\n",
        "  return qml.expval(qml.PauliZ(0) + qml.PauliZ(1))"
      ],
      "metadata": {
        "id": "2k4-i_KbipcK"
      },
      "execution_count": 19,
      "outputs": []
    },
    {
      "cell_type": "code",
      "source": [
        "dev = qml.device(\"default.qubit\", wires = 2)\n",
        "@qml.qnode(dev, diff_method = \"finite-diff\")\n",
        "def circuit_finite_diff(params):\n",
        "  qml.RY(params[0], wires = 0)\n",
        "  qml.RY(params[1], wires = 1)\n",
        "  return qml.expval(qml.PauliZ(0) + qml.PauliZ(1))"
      ],
      "metadata": {
        "id": "LzbyLZDYex4y"
      },
      "execution_count": 20,
      "outputs": []
    },
    {
      "cell_type": "code",
      "source": [
        "params = np.array([np.pi/4, np.pi/3], requires_grad = True)"
      ],
      "metadata": {
        "id": "fvRkBQBvfMz9"
      },
      "execution_count": 21,
      "outputs": []
    },
    {
      "cell_type": "code",
      "source": [
        "print(finite_diff_grad(circuit, params))\n",
        "print(qml.grad(circuit_finite_diff)(params))"
      ],
      "metadata": {
        "colab": {
          "base_uri": "https://localhost:8080/"
        },
        "id": "stY95-gqfcyV",
        "outputId": "51e452ff-55ad-4a2e-8449-9c41d1849918"
      },
      "execution_count": 22,
      "outputs": [
        {
          "output_type": "stream",
          "name": "stdout",
          "text": [
            "[-0.70710678 -0.8660254 ]\n",
            "[-0.70710681 -0.86602543]\n"
          ]
        }
      ]
    },
    {
      "cell_type": "markdown",
      "source": [
        "### Paramter-shift differentiation method"
      ],
      "metadata": {
        "id": "xAumGl71gUU8"
      }
    },
    {
      "cell_type": "markdown",
      "source": [
        "The parameter-shift rule is based on the observation that certain quantum gates are parameterized in such a way that their derivative can be computed by evaluating the circuit with shifted versions of the parameters.\n",
        " - computing gradients of quantum circuits with respect to their parameters"
      ],
      "metadata": {
        "id": "IQg-A1LHgnT2"
      }
    },
    {
      "cell_type": "markdown",
      "source": [
        "Specifically, if a quantum gate U(θ) depends on a single scalar parameter θ, then the derivative of a circuit output with respect to θ can be expressed as:\n",
        "\n",
        "$∂U(θ) = ( U(θ + π/2) - U(θ - π/2) ) / 2$\n",
        "\n",
        "This formula is known as the parameter-shift rule. It works by using the fact that two nearby points on a unit circle can be shifted by π/2 to obtain two perpendicular vectors that can be used to estimate a derivative.\n",
        "\n",
        "The parameter-shift rule can be applied to any quantum circuit that contains gates with scalar parameters. To compute the gradient of a circuit with respect to its parameters using the parameter-shift rule, we can follow these steps:\n",
        "\n",
        "\n",
        "1.   Initialize an array of zeros for the gradient\n",
        "2.   Loop over each parameter in the circuit\n",
        "3.   Evaluate the circuit with a small shift in the current parameter value (eg. θ + π/2)\n",
        "4. Evaluate the circuit with a small shift in the opposite direction (e.g. θ - π/2\n",
        "5. Use the parameter-shift rule to compute the derivative of the circuit output with respect to the current parameter\n",
        "6. Store the computed derivative in the corresponding entry of the gradient array\n",
        "7. Repeat steps 3-6 for each parameter in the circuit\n",
        "8. Return the gradient array\n",
        "\n",
        "\n",
        "\n",
        "\n",
        "Compared to the finite difference method, the parameter-shift rule can be more efficient and accurate for computing gradients of quantum circuits with respect to their parameters. It can also be extended to handle multiple parameters, and can be used in combination with other techniques such as backpropagation to train quantum neural networks."
      ],
      "metadata": {
        "id": "mRiW6iEIg7Gk"
      }
    },
    {
      "cell_type": "code",
      "source": [
        "def shift_diff_grad(function, params, s  = np.pi/3):\n",
        "\n",
        "  # Initialize an array to store the computed gradients for each parameter\n",
        "  gradient = np.zeros_like(params)\n",
        "\n",
        "  # Loop\n",
        "  for i in range(len(params)):\n",
        "\n",
        "    # Shift the current parameter by the step size s\n",
        "    params[i] += s\n",
        "\n",
        "    # Evaluate the function circuit with the modified params array and add the result to the corresponding entry in the gradient array\n",
        "    gradient[i] += function(params)\n",
        "\n",
        "    # Shift the current parameter by twice the step size h, it's done to evaluate the function at a point on the other side of the current parameter value.\n",
        "    params[i] -= 2*s\n",
        "  \n",
        "    # Evaluate the function circuit with the modified params array and subtract the result from the corresponding entry in the gradient array\n",
        "    gradient[i] -= function(params)\n",
        "\n",
        "    # Divide the resulting difference in function values by twice the sin of the shift value to obtain an approximation of the derivative\n",
        "    gradient[i] /= 2*np.sin(s)\n",
        "\n",
        "    # Restore the current parameter to its original value by incrementing it by the step size h\n",
        "    params[i] += s\n",
        "\n",
        "  # Return the resulting gradient array, which contains the computed gradients\n",
        "  return gradient"
      ],
      "metadata": {
        "id": "AP1jWqp2hpbW"
      },
      "execution_count": 23,
      "outputs": []
    },
    {
      "cell_type": "code",
      "source": [
        "@qml.qnode(dev, diff_method = \"parameter-shift\")\n",
        "def circuit_paramter_shift(params):\n",
        "  qml.RY(params[0], wires = 0)\n",
        "  qml.RY(params[1], wires = 1)\n",
        "  return qml.expval(qml.PauliZ(0) + qml.PauliZ(1))"
      ],
      "metadata": {
        "id": "ZL4y2mpXhpYq"
      },
      "execution_count": 24,
      "outputs": []
    },
    {
      "cell_type": "code",
      "source": [
        "print(shift_diff_grad(circuit, params))\n",
        "print(qml.grad(circuit_paramter_shift)(params))"
      ],
      "metadata": {
        "colab": {
          "base_uri": "https://localhost:8080/"
        },
        "id": "s8uCMTjthpDr",
        "outputId": "e5b5d3a0-1f56-4942-8029-ada26442762e"
      },
      "execution_count": 25,
      "outputs": [
        {
          "output_type": "stream",
          "name": "stdout",
          "text": [
            "[-0.70710678 -0.8660254 ]\n",
            "[-0.70710678 -0.8660254 ]\n"
          ]
        }
      ]
    },
    {
      "cell_type": "markdown",
      "source": [
        "# Quadratic Unconstrained Binary Optimization (QUBO)"
      ],
      "metadata": {
        "id": "t9eT5OhcjLe6"
      }
    },
    {
      "cell_type": "markdown",
      "source": [
        "Events organization\n",
        "\n",
        "Events: $E_1$, $E_2$, $E_3$, $E_4$ and $E_5$\n",
        "\n",
        "People: $P_1$, $P_2$, $P_3$ and $P_4$\n",
        "\n",
        "Preferences:\n",
        "- $P_1$ wants to go to $E_1$ and $E_4$\n",
        "- $P_2$ wants to go to $E_2$ and $E_3$\n",
        "- $P_3$ wants to go to $E_4$ and $E_5$\n",
        "- $P_4$ wants to go to $E_3$ and $E_4$\n",
        "\n",
        "Binary variables:\n",
        "\n",
        "- $x_i$ = 0 if the i-th event is on Saturday\n",
        "- $x_i$ = 1 if the i-th event is on Sunday\n",
        "\n",
        "Formulation:\n",
        "\n",
        "$f(x_1, x_2, x_3, x_4, x_5) = 4 + x_1 + x_2 + 2x_3 + 3x_4 + x_5 - 2x_1x_4 - 2x_2x_3 - 2x_4x_5-2x_3x_4$\n",
        "\n",
        "Change of variable:\n",
        "\n",
        "$x_i = \\frac{1-z_i}{2}$ \n",
        "\n",
        "-$z_i$ = 1 if the i-th event is on Saturday\n",
        "-$z_i$ = 0 if the i-th event is on Sunday\n",
        "\n",
        "\n",
        "New formulation:\n",
        "\n",
        "$f(z_1, z_2, z_3, z_4, z_5) = 6-\\frac{1}{2}z_1z_4 - \\frac{1}{2}z_2z_3 - \\frac{1}{2}z_4z_5 - \\frac{1}{2}z_3z_4$"
      ],
      "metadata": {
        "id": "pKP5w1ppmhPD"
      }
    },
    {
      "cell_type": "code",
      "source": [
        "import pennylane as qml\n",
        "from pennylane import numpy as np"
      ],
      "metadata": {
        "id": "0e9UzWFBos-3"
      },
      "execution_count": 27,
      "outputs": []
    },
    {
      "cell_type": "code",
      "source": [
        "#build hamiltonian (minimization)\n",
        "H = - 6 * qml.Identity(1) + \\\n",
        "    0.5 * qml.PauliZ(1) @ qml.PauliZ(4) + \\\n",
        "    0.5 * qml.PauliZ(2) @ qml.PauliZ(3) + \\\n",
        "    0.5 * qml.PauliZ(4) @ qml.PauliZ(5) + \\\n",
        "    0.5 * qml.PauliZ(3) @ qml.PauliZ(4) \n",
        "    \n",
        "print(H)"
      ],
      "metadata": {
        "colab": {
          "base_uri": "https://localhost:8080/"
        },
        "id": "D8ifeEy6jfpV",
        "outputId": "54701969-038e-4ed8-a276-2e25f2f69327"
      },
      "execution_count": 28,
      "outputs": [
        {
          "output_type": "stream",
          "name": "stdout",
          "text": [
            "  (-6.0) [I1]\n",
            "+ (0.5) [Z1 Z4]\n",
            "+ (0.5) [Z2 Z3]\n",
            "+ (0.5) [Z4 Z5]\n",
            "+ (0.5) [Z3 Z4]\n"
          ]
        }
      ]
    },
    {
      "cell_type": "code",
      "source": [
        "dev = qml.device(\"default.qubit\", wires = H.wires)\n",
        "\n",
        "@qml.qnode(dev)\n",
        "def circuit(params):\n",
        "    \n",
        "    for param, wire in zip(params, H.wires):\n",
        "        qml.RY(param, wires = wire)\n",
        "        \n",
        "    return qml.expval(H)\n",
        "\n",
        "circuit([0,0,0,0,0])"
      ],
      "metadata": {
        "colab": {
          "base_uri": "https://localhost:8080/"
        },
        "id": "0r-4OKmtowz8",
        "outputId": "eab143a9-9294-4345-c5d0-f755b0862fec"
      },
      "execution_count": 29,
      "outputs": [
        {
          "output_type": "execute_result",
          "data": {
            "text/plain": [
              "tensor(-4., requires_grad=True)"
            ]
          },
          "metadata": {},
          "execution_count": 29
        }
      ]
    },
    {
      "cell_type": "code",
      "source": [
        "params = np.random.rand(len(H.wires))\n",
        "opt = qml.AdagradOptimizer(stepsize = 0.5)\n",
        "epochs = 200\n",
        "\n",
        "for epoch in range(epochs):\n",
        "    params = opt.step(circuit, params)\n",
        "    \n",
        "circuit(params)"
      ],
      "metadata": {
        "colab": {
          "base_uri": "https://localhost:8080/"
        },
        "id": "gHvtOAFppaLT",
        "outputId": "8b919f9e-3358-4e7d-886a-aff448c86f9c"
      },
      "execution_count": 30,
      "outputs": [
        {
          "output_type": "execute_result",
          "data": {
            "text/plain": [
              "tensor(-8., requires_grad=True)"
            ]
          },
          "metadata": {},
          "execution_count": 30
        }
      ]
    },
    {
      "cell_type": "code",
      "source": [
        "dev = qml.device(\"default.qubit\", wires = H.wires, shots = 1) #shot = 1, want one configuration\n",
        "\n",
        "@qml.qnode(dev)\n",
        "def circuit(params):\n",
        "    \n",
        "    for param, wire in zip(params, H.wires):\n",
        "        qml.RY(param, wires = wire)\n",
        "        \n",
        "    return qml.sample() #example of configuration\n",
        "\n",
        "circuit(params)"
      ],
      "metadata": {
        "colab": {
          "base_uri": "https://localhost:8080/"
        },
        "id": "s_UZOEsmpbE0",
        "outputId": "50bcaf11-b0a0-4f8f-f101-88efc6b78f2b"
      },
      "execution_count": 33,
      "outputs": [
        {
          "output_type": "execute_result",
          "data": {
            "text/plain": [
              "tensor([0, 1, 0, 1, 0], requires_grad=True)"
            ]
          },
          "metadata": {},
          "execution_count": 33
        }
      ]
    },
    {
      "cell_type": "markdown",
      "source": [
        "#Measurements and quantum circuits"
      ],
      "metadata": {
        "id": "Ky875V1UqkWm"
      }
    },
    {
      "cell_type": "markdown",
      "source": [
        "Important: There are differences of measurements between simulation and real hardware!!!"
      ],
      "metadata": {
        "id": "JtsNCAzPu1GD"
      }
    },
    {
      "cell_type": "code",
      "source": [
        "import pennylane as qml\n",
        "from pennylane import numpy as np"
      ],
      "metadata": {
        "id": "ncLN2dFeqmjD"
      },
      "execution_count": 34,
      "outputs": []
    },
    {
      "cell_type": "code",
      "source": [
        "dev = qml.device(\"default.qubit\", wires = 2)\n",
        "\n",
        "@qml.qnode(dev)\n",
        "def circuit():\n",
        "  qml.Hadamard(0)\n",
        "  qml.CNOT([0, 1])\n",
        "\n",
        "  # return qml.state()\n",
        "  # return qml.density_matrix(wires = range(2)) #entire system\n",
        "  #return qml.density_matrix(wires = 0) #subsystem of qubits\n",
        "  #return qml.probs(wires = range(2))#entire system\n",
        "  return qml.probs(wires = 1)#subsystem, get marginal distribution"
      ],
      "metadata": {
        "id": "B3e0V5vvqmfj"
      },
      "execution_count": 49,
      "outputs": []
    },
    {
      "cell_type": "code",
      "source": [
        "circuit()"
      ],
      "metadata": {
        "colab": {
          "base_uri": "https://localhost:8080/"
        },
        "id": "pF72SjIGqmcb",
        "outputId": "e41c10c6-73e7-4b26-f096-e1bcbc7b5063"
      },
      "execution_count": 50,
      "outputs": [
        {
          "output_type": "execute_result",
          "data": {
            "text/plain": [
              "tensor([0.5, 0.5], requires_grad=True)"
            ]
          },
          "metadata": {},
          "execution_count": 50
        }
      ]
    },
    {
      "cell_type": "markdown",
      "source": [
        "qml.state()\n",
        "- Vector in computational basis\n",
        "\n",
        "qml.density_matrix()\n",
        "- Density matrix in computational basis\n",
        "\n",
        "qml.probs()\n",
        "- Marginal/full probability distribution in computational basis"
      ],
      "metadata": {
        "id": "pjs7BeEUrpr0"
      }
    },
    {
      "cell_type": "markdown",
      "source": [
        "In real devices you need to sample!\n",
        "\n",
        "add **shots** in qml.device(..., **shots** = 100)\n",
        "\n",
        "**shots**: Number of times we sample\n",
        "\n",
        "When we add shots, we can't use the above methods to read out the full knowledge of the qunatum state at every step in computation"
      ],
      "metadata": {
        "id": "KUUkA-llsLPG"
      }
    },
    {
      "cell_type": "code",
      "source": [
        "dev = qml.device(\"default.qubit\", wires = 2, shots = [5, 50, 100, 500, 1000])\n",
        "\n",
        "@qml.qnode(dev)\n",
        "def circuit():\n",
        "  qml.Hadamard(0)\n",
        "  qml.CNOT([0, 1])\n",
        "\n",
        "  # return qml.sample() #measuring the qunatum state in the computational basis \n",
        "  # return qml.counts() #shows the outcomes of sampling a circuit but as a dictionary containing the possible measurement outcomes and the number of times the outcomes occured\n",
        "  return qml.expval(qml.PauliZ(0)) #expected value, adding shot, expected value will be slightly off"
      ],
      "metadata": {
        "id": "P06eEokiqmZc"
      },
      "execution_count": 61,
      "outputs": []
    },
    {
      "cell_type": "code",
      "source": [
        "circuit() "
      ],
      "metadata": {
        "colab": {
          "base_uri": "https://localhost:8080/"
        },
        "id": "Uoj_etI1s5NY",
        "outputId": "0f926b33-fcee-4670-e0c5-62fe06cda149"
      },
      "execution_count": 62,
      "outputs": [
        {
          "output_type": "execute_result",
          "data": {
            "text/plain": [
              "tensor([-0.2  , -0.2  ,  0.02 ,  0.028, -0.052], requires_grad=True)"
            ]
          },
          "metadata": {},
          "execution_count": 62
        }
      ]
    },
    {
      "cell_type": "markdown",
      "source": [
        "in first shot got 0, 0 , in second 1,1 \n",
        "\n",
        "bell state: possible states are 0,0 or 1,1 with equal probability"
      ],
      "metadata": {
        "id": "RU2H7VPItQVn"
      }
    },
    {
      "cell_type": "markdown",
      "source": [
        "increase shots, come closer to 50/50 (frequency distribution to approximate probability distribution)"
      ],
      "metadata": {
        "id": "gKGkIkp0uCES"
      }
    },
    {
      "cell_type": "markdown",
      "source": [
        "#Quantum Approximate Optimization Algorithm (QAOA)"
      ],
      "metadata": {
        "id": "Zj5fmlELvCvD"
      }
    },
    {
      "cell_type": "markdown",
      "source": [
        "Solve non-trivial binary combiatorial problems"
      ],
      "metadata": {
        "id": "zj8ubIuqvO3G"
      }
    },
    {
      "cell_type": "markdown",
      "source": [
        "A simple qubit Hamiltonian is a mathematical expression that describes the energy of a quantum bit (qubit) system in terms of its state. One common example of a qubit Hamiltonian is the Pauli spin Hamiltonian, which describes the energy of a qubit in a magnetic field."
      ],
      "metadata": {
        "id": "3yEjVegmyqMo"
      }
    },
    {
      "cell_type": "markdown",
      "source": [
        "simple qubit hamiltonian that is the PauliZ operator.\n",
        "\n",
        "$H = Z$\n",
        "\n",
        "Goal: find the ground state of this hamiltonian which is the state with the lowest energy\n",
        "\n",
        "Prepare Qubit in the uniform superposition state by applying a hadamark gate on the zero state\n",
        "\n",
        "$H|0\\rangle$ = $\\frac{1}{\\sqrt2}(|0\\rangle + |1\\rangle)$ = $|+\\rangle$\n",
        "\n",
        "next operation is to apply a Time Evolution on the state under the hamiltonian in question for some time we don't know yet.\n",
        "\n",
        "$e^{-itZ}|+\\rangle$\n",
        "\n",
        "$=\\frac{1}{\\sqrt2}(e^{-it}|0\\rangle + e^{it}|1\\rangle)$\n",
        "\n",
        "\n",
        "Since hamiltonian is the PauliZ operator this time Evolution operator is just a PauliZ rotation with a negative rotation angle. We just apply some phases on the zero state and the one state.\n",
        "\n",
        "Now apply a PauliX rotation with a negative rotation angle. \n",
        "Time and angle of rotation is unspecified (omplex formula). \n",
        "\n",
        "Now what does the time and angle need to be in order to get the ground state of\n",
        "our hamiltonian ? \n",
        "\n",
        "$t = \\frac{\\pi}{4}, \\theta = \\frac{\\pi}{2} $\n",
        "\n",
        "\n",
        "In QAOA Terms the hamiltonian is called cost hamiltonian and we want to finde the ground state of.\n",
        "The RX gate with the negative rotation angle will place the role of the mixer. Defined by a mixer hamiltonian that we time envolve. And thats the same as time envolving under hamiltonian that is just the X gate under some specific time (time plays role of angle)\n"
      ],
      "metadata": {
        "id": "871X2k23vr0Z"
      }
    },
    {
      "cell_type": "code",
      "source": [
        "import pennylane as qml\n",
        "from pennylane import numpy as np\n",
        "from pennylane import qaoa\n",
        "\n",
        "import cmath\n",
        "import matplotlib.pyplot as plt\n",
        "\n",
        "plt.style.use('seaborn')"
      ],
      "metadata": {
        "id": "SkVekAXGvOcM"
      },
      "execution_count": 69,
      "outputs": []
    },
    {
      "cell_type": "code",
      "source": [
        "cost_H = qml.PauliZ(0) + qml.PauliZ(1) + qml.PauliZ(2)\n",
        "mixer_H = qml.PauliX(0) + qml.PauliX(1) + qml.PauliX(2)"
      ],
      "metadata": {
        "id": "yyQ7bcPF1W3Z"
      },
      "execution_count": 65,
      "outputs": []
    },
    {
      "cell_type": "code",
      "source": [
        "wires = [0, 1, 2]\n",
        "num_layers = 5 #alternation\n",
        "\n",
        "def qaoa_layer(gamma, alpha):\n",
        "  qaoa.cost_layer(gamma, cost_H)\n",
        "  qaoa.mixer_layer(alpha, mixer_H)\n",
        "\n",
        "def circuit(params):\n",
        "  for w in wires:\n",
        "    qml.Hadamard(w) #start in uniform superposition\n",
        "  qml.layer(qaoa_layer, num_layers, params[0], params[1])\n",
        "\n",
        "dev = qml.device('default.qubit', wires = wires)\n",
        "\n",
        "@qml.qnode(dev)\n",
        "def cost_function(params):\n",
        "  circuit(params)\n",
        "  return qml.expval(cost_H)"
      ],
      "metadata": {
        "id": "WagOXu3Q1k8C"
      },
      "execution_count": 67,
      "outputs": []
    },
    {
      "cell_type": "code",
      "source": [
        "from pennylane.math import requires_grad\n",
        "opt = qml.GradientDescentOptimizer()\n",
        "steps = 200\n",
        "params = np.array([[0.5] * num_layers, [0.5] * num_layers], requires_grad = True)\n",
        "\n",
        "for _ in range(steps):\n",
        "  params = opt.step(cost_function, params)"
      ],
      "metadata": {
        "id": "ml9S4R3w2XZZ"
      },
      "execution_count": 83,
      "outputs": []
    },
    {
      "cell_type": "code",
      "source": [
        "@qml.qnode(dev)\n",
        "def circuit_state(params):\n",
        "  circuit(params)\n",
        "  return qml.state() \n",
        "\n",
        "np.round_(circuit_state(params), decimals = 5)\n"
      ],
      "metadata": {
        "colab": {
          "base_uri": "https://localhost:8080/"
        },
        "id": "rV02nGPV274I",
        "outputId": "93061aca-c87f-4fe9-f537-5c9c075e0b76"
      },
      "execution_count": 88,
      "outputs": [
        {
          "output_type": "execute_result",
          "data": {
            "text/plain": [
              "tensor([-0.-0.j,  0.-0.j, -0.-0.j, -0.-0.j, -0.+0.j, -0.-0.j, -0.-0.j,\n",
              "        -1.+0.j], requires_grad=True)"
            ]
          },
          "metadata": {},
          "execution_count": 88
        }
      ]
    },
    {
      "cell_type": "markdown",
      "source": [
        "non zero is the last one, means that every qubit is in the one state"
      ],
      "metadata": {
        "id": "ID-YZhs-3cyr"
      }
    },
    {
      "cell_type": "markdown",
      "source": [
        "Look a quantum state after every single layer in circuit"
      ],
      "metadata": {
        "id": "XrILCYEF4Dd6"
      }
    },
    {
      "cell_type": "code",
      "source": [
        "def qaoa_layer_snapshot(gamma, alpha):\n",
        "  qaoa.cost_layer(gamma, cost_H)\n",
        "  qml.Snapshot()\n",
        "  qaoa.mixer_layer(alpha, mixer_H)\n",
        "  qml.Snapshot()\n",
        "\n",
        "def circuit_snapshot(params):\n",
        "  for w in wires:\n",
        "    qml.Hadamard(w) #start in uniform superposition\n",
        "  qml.layer(qaoa_layer_snapshot, num_layers, params[0], params[1])\n",
        "\n",
        "@qml.qnode(dev)\n",
        "def circuit_state_snapshot(params):\n",
        "  circuit_snapshot(params)\n",
        "  return qml.state() \n",
        "\n",
        "#save snapshots in dictionary\n",
        "snaps = qml.snapshots(circuit_state_snapshot)(params)"
      ],
      "metadata": {
        "id": "SZuZ38bY3k0k"
      },
      "execution_count": 85,
      "outputs": []
    },
    {
      "cell_type": "code",
      "source": [
        "#extract phase and amplitution\n",
        "amplitudes = np.zeros(2*num_layers)\n",
        "phases = np.zeros(2*num_layers)\n",
        "\n",
        "for i in range(2*num_layers):\n",
        "  solution_coeff = snaps[i].reshape(2, 2, 2)[1, 1 ,1] #111 state\n",
        "  amplitudes[i] = np.real(solution_coeff * np.conj(solution_coeff))\n",
        "  phases[i] = cmath.phase(solution_coeff)"
      ],
      "metadata": {
        "id": "uRyX3tk04QUV"
      },
      "execution_count": 86,
      "outputs": []
    },
    {
      "cell_type": "code",
      "source": [
        "plt.plot(amplitudes, phases)\n",
        "plt.ylabel(\"Phase\")\n",
        "plt.xlabel(\"Amplitude\")\n",
        "plt.show()"
      ],
      "metadata": {
        "colab": {
          "base_uri": "https://localhost:8080/",
          "height": 361
        },
        "id": "86dZpLBD6NCx",
        "outputId": "764e2c11-e86a-4228-e8ad-256f7559d057"
      },
      "execution_count": 87,
      "outputs": [
        {
          "output_type": "display_data",
          "data": {
            "text/plain": [
              "<Figure size 576x396 with 1 Axes>"
            ],
            "image/png": "[encoded data removed]"
          },
          "metadata": {}
        }
      ]
    },
    {
      "cell_type": "markdown",
      "source": [
        "#Grover's Algorthm"
      ],
      "metadata": {
        "id": "tpRicGEO_s2a"
      }
    },
    {
      "cell_type": "markdown",
      "source": [
        "Main Goal: Find specific element in unstructured data set\n",
        "\n",
        "Need fewer tries to find right solution."
      ],
      "metadata": {
        "id": "jidwDjTG_vtQ"
      }
    },
    {
      "cell_type": "markdown",
      "source": [
        "\n",
        "\n",
        "1.   Creat a uniform superposition. \n",
        "\n",
        "N: all possible elements\n",
        "\n",
        "$|\\psi_{init.}\\rangle =\\frac{1}{\\sqrt N}(\\sum_{i=1}^{N}|i\\rangle)$\n",
        "\n",
        "2.   Apply the oracle\n",
        "  - doesn't know the answer explicitly\n",
        "  - can only verify if a guess is right/wrong\n",
        "  - eg. Sodoku\n",
        "  - flips the sign of the solution state(s)\n",
        "3. Apply the amplifier (Grover operator)\n",
        "  - increase/amplify probability of the correct solution\n",
        "  - decrease other probabilities\n",
        "4. Repeat 2-3 \n",
        "\n"
      ],
      "metadata": {
        "id": "CWYTQjPXAVKC"
      }
    },
    {
      "cell_type": "markdown",
      "source": [
        "Have an amount of property that we want to divide between two siblings.\n",
        "\n",
        "We have 6 different properties. We want to see if we can partition them into two sets that have the same value.\n",
        "\n",
        "We will have 6 binary variables.\n",
        "\n",
        "$x_i$ = 0 if the i-th property goes to the first sibling.\n",
        "\n",
        "$x_i$ = 1 if the i-th property goes to the second sibling.\n",
        "\n",
        "Steps:\n",
        "\n",
        "\n",
        "1.   Create a superposition of all possible asset allocations\n",
        "2.   Through the oracle, we mark those distributions that satisfy the request\n",
        "3.   We amplify the probability of observing solution states through Grover's operator\n",
        "\n",
        "\n"
      ],
      "metadata": {
        "id": "QENT2Akyr5lp"
      }
    },
    {
      "cell_type": "code",
      "source": [
        "import pennylane as qml\n",
        "from pennylane import numpy as np\n",
        "\n",
        "property_prices = [4, 8, 6, 3, 12, 15] # total 48 \n",
        "variables_wires = [0, 1, 2, 3, 4, 5]\n",
        "aux_oracle_wires = [6, 7, 8 ,9 ,10, 11]"
      ],
      "metadata": {
        "id": "8uDt9VTNAN0U"
      },
      "execution_count": 4,
      "outputs": []
    },
    {
      "cell_type": "code",
      "source": [
        "#Source: https://pennylane.ai/qml/demos/tutorial_qft_arithmetics.html\n",
        "\n",
        "def oracle(variables_wires, aux_oracle_wires):\n",
        "    \n",
        "    def add_k_fourier(k, wires):\n",
        "        for j in range(len(wires)):\n",
        "            qml.RZ(k * np.pi / (2**j), wires=wires[j])\n",
        "            \n",
        "    def value_second_sibling():\n",
        "        \n",
        "        qml.QFT(wires = aux_oracle_wires)\n",
        "        \n",
        "        for wire in variables_wires:\n",
        "            qml.ctrl(add_k_fourier, control = wire)(property_prices[wire], wires = aux_oracle_wires)\n",
        "            \n",
        "        qml.adjoint(qml.QFT)(wires = aux_oracle_wires)\n",
        "        \n",
        "    value_second_sibling()\n",
        "    qml.FlipSign(sum(property_prices) // 2, wires = aux_oracle_wires)\n",
        "    qml.adjoint(value_second_sibling)()"
      ],
      "metadata": {
        "id": "pr_52rjgANwu"
      },
      "execution_count": 5,
      "outputs": []
    },
    {
      "cell_type": "code",
      "source": [
        "dev = qml.device(\"default.qubit\", wires = variables_wires + aux_oracle_wires, shots = 1)\n",
        "\n",
        "@qml.qnode(dev)\n",
        "def circuit():\n",
        "    \n",
        "    # step 1\n",
        "    for wire in variables_wires:\n",
        "        qml.Hadamard(wires = wire)\n",
        "    for _ in range(3):\n",
        "      # step 2\n",
        "      oracle(variables_wires, aux_oracle_wires)\n",
        "      \n",
        "      # step 3\n",
        "      qml.GroverOperator(wires = variables_wires)\n",
        "    \n",
        "    # return qml.probs(wires = variables_wires)\n",
        "    return qml.sample(wires = variables_wires)"
      ],
      "metadata": {
        "id": "a3gJHKKzru4Q"
      },
      "execution_count": 10,
      "outputs": []
    },
    {
      "cell_type": "code",
      "source": [
        "import matplotlib.pyplot as plt\n",
        "\n",
        "values = circuit()\n",
        "print(values)\n",
        "# plt.bar(range(len(values)), values)"
      ],
      "metadata": {
        "colab": {
          "base_uri": "https://localhost:8080/"
        },
        "id": "Yf19Kx6Arvvz",
        "outputId": "fc4c1df9-e6f7-464d-ff0d-8bc7c5b70fd0"
      },
      "execution_count": 12,
      "outputs": [
        {
          "output_type": "stream",
          "name": "stdout",
          "text": [
            "[1 1 0 0 1 0]\n"
          ]
        }
      ]
    },
    {
      "cell_type": "markdown",
      "source": [
        "second sibling get the first, second and the fifth property.\n",
        "The other solution is what we give the first sibling"
      ],
      "metadata": {
        "id": "iC6LBhkctybJ"
      }
    },
    {
      "cell_type": "markdown",
      "source": [
        "Two main problems:\n",
        "\n",
        "- speedup isn't good enough\n",
        "\n",
        "- Uniform superposition"
      ],
      "metadata": {
        "id": "rYeDsbvPuj9R"
      }
    },
    {
      "cell_type": "markdown",
      "source": [
        "# Question"
      ],
      "metadata": {
        "id": "cI9Xmr-yvRgj"
      }
    },
    {
      "cell_type": "markdown",
      "source": [
        "https://www.youtube.com/watch?v=-5Ds6n7fmKc&list=PL_hJxz_HrXxsY23iiLZTxiPctXKYI6tNV&index=13"
      ],
      "metadata": {
        "id": "h7PbmFJvwE-A"
      }
    },
    {
      "cell_type": "markdown",
      "source": [
        "![chrome_4pHKRuOyQ9.png](data:image/png;base64,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)"
      ],
      "metadata": {
        "id": "OVNB7mzWvchi"
      }
    },
    {
      "cell_type": "markdown",
      "source": [
        "What is U if the entire circuit above is equivalent to a SWAP gate?\n"
      ],
      "metadata": {
        "id": "VjDj95Igvhbl"
      }
    },
    {
      "cell_type": "markdown",
      "source": [
        "1. Find U with machine learning\n",
        "\n",
        "$U_{guess}$\n"
      ],
      "metadata": {
        "id": "5WK8mKBLvUn3"
      }
    },
    {
      "cell_type": "markdown",
      "source": [
        "2. Compilation-style solution (more exact)"
      ],
      "metadata": {
        "id": "X_XJfHKfvtwY"
      }
    }
  ]
}